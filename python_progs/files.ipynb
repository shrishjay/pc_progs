{
 "cells": [
  {
   "cell_type": "code",
   "execution_count": 24,
   "id": "591a1663-2953-45dd-9c21-9db0b7471f75",
   "metadata": {},
   "outputs": [
    {
     "name": "stdout",
     "output_type": "stream",
     "text": [
      "Hello, world!Hello, world!\n",
      "The original words of something written or printed, as opposed to a paraphrase, translation, revision, or condensation.\n",
      "The words of a speech appearing in print.\n",
      "Words, as of a libretto, that are set to music in a composition.\n",
      "\n"
     ]
    }
   ],
   "source": [
    "f = open('nature.txt')\n",
    "text = f.read()\n",
    "print(text)\n"
   ]
  },
  {
   "cell_type": "code",
   "execution_count": 5,
   "id": "0c8db12a-bb26-4e08-bfce-220edb3f747a",
   "metadata": {},
   "outputs": [],
   "source": [
    "f = open('nature.txt', 'w')\n",
    "f.write('Hello, world!')\n",
    "f.close()"
   ]
  },
  {
   "cell_type": "code",
   "execution_count": 12,
   "id": "5585dbbb-bed3-45e1-bdab-883ba01d3d59",
   "metadata": {},
   "outputs": [],
   "source": [
    "f = open('nature.txt', 'a')\n",
    "f.write('Hello, world!')\n",
    "f.close()"
   ]
  },
  {
   "cell_type": "code",
   "execution_count": 6,
   "id": "1c4ceea7-e562-484c-bcdf-dfbfa4ab201b",
   "metadata": {},
   "outputs": [],
   "source": [
    "with open('nature.txt', 'a') as f:\n",
    "    f.write('Hello, world!')"
   ]
  },
  {
   "cell_type": "code",
   "execution_count": 25,
   "id": "06e3ae06-2bac-4ad7-a917-89cf06499066",
   "metadata": {},
   "outputs": [
    {
     "name": "stdout",
     "output_type": "stream",
     "text": [
      "['Hello,', 'world!Hello,', 'world!\\n']\n",
      "['The', 'original', 'words', 'of', 'something', 'written', 'or', 'printed,', 'as', 'opposed', 'to', 'a', 'paraphrase,', 'translation,', 'revision,', 'or', 'condensation.\\n']\n",
      "['The', 'words', 'of', 'a', 'speech', 'appearing', 'in', 'print.\\n']\n",
      "['Words,', 'as', 'of', 'a', 'libretto,', 'that', 'are', 'set', 'to', 'music', 'in', 'a', 'composition.\\n']\n"
     ]
    }
   ],
   "source": [
    "f = open('nature.txt')\n",
    "for line in f:\n",
    "    words = line.split(\" \")\n",
    "    print(str(words))\n",
    "f.close()"
   ]
  },
  {
   "cell_type": "code",
   "execution_count": 53,
   "id": "7018ce4f-630d-4b7f-a931-cdf5705dce62",
   "metadata": {},
   "outputs": [
    {
     "data": {
      "text/plain": [
       "<function TextIOWrapper.close()>"
      ]
     },
     "execution_count": 53,
     "metadata": {},
     "output_type": "execute_result"
    }
   ],
   "source": [
    "f = open('nature.txt')\n",
    "f_out = open('nature_wc.txt',\"w\")\n",
    "for line in f:\n",
    "    words = line.split(\" \")\n",
    "    f_out.write(\"wordcount : \" + str(len(words)) + line)\n",
    "    #print(str(words))\n",
    "f.close()\n",
    "f_out.close"
   ]
  },
  {
   "cell_type": "code",
   "execution_count": 1,
   "id": "399f574e-4371-4f93-bc12-4080d826d027",
   "metadata": {},
   "outputs": [],
   "source": [
    "f_out = open('nature_wc.txt')\n",
    "#f_out.close()"
   ]
  },
  {
   "cell_type": "code",
   "execution_count": null,
   "id": "6230351c-b1dd-42ab-ab1e-7b62403a81be",
   "metadata": {},
   "outputs": [],
   "source": []
  }
 ],
 "metadata": {
  "kernelspec": {
   "display_name": "Python 3 (ipykernel)",
   "language": "python",
   "name": "python3"
  },
  "language_info": {
   "codemirror_mode": {
    "name": "ipython",
    "version": 3
   },
   "file_extension": ".py",
   "mimetype": "text/x-python",
   "name": "python",
   "nbconvert_exporter": "python",
   "pygments_lexer": "ipython3",
   "version": "3.10.9"
  }
 },
 "nbformat": 4,
 "nbformat_minor": 5
}
