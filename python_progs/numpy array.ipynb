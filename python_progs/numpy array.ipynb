{
 "cells": [
  {
   "cell_type": "code",
   "execution_count": 1,
   "id": "c2959326",
   "metadata": {},
   "outputs": [
    {
     "name": "stdout",
     "output_type": "stream",
     "text": [
      "[1 2 3 4]\n",
      "[[1 2 3 4]\n",
      " [5 6 7 8]]\n",
      "[[[ 1  2  3  4  5  6  7  8  9 10 11 12]]]\n"
     ]
    },
    {
     "data": {
      "text/plain": [
       "3"
      ]
     },
     "execution_count": 1,
     "metadata": {},
     "output_type": "execute_result"
    }
   ],
   "source": [
    "import numpy as np\n",
    "a1=np.array([1,2,3,4])      #1D array\n",
    "print(a1)\n",
    "a2=np.array([[1,2,3,4], [5,6,7,8]])        #2D array\n",
    "print(a2)\n",
    "a3=np.array([1,2,3,4,5,6,7,8,9,10,11,12], ndmin=3) #3D array\n",
    "print(a3)\n",
    "a3.ndim"
   ]
  },
  {
   "cell_type": "code",
   "execution_count": 1,
   "id": "388a0819",
   "metadata": {},
   "outputs": [
    {
     "name": "stdout",
     "output_type": "stream",
     "text": [
      "28000\n",
      "8000\n"
     ]
    }
   ],
   "source": [
    "# why use array instead of list\n",
    "import sys\n",
    "import numpy as np\n",
    "l = range(1000)\n",
    "print(sys.getsizeof(5) * len(l))      #prints size of the list\n",
    "\n",
    "arr = np.arange(1000)\n",
    "print(arr.size * arr.itemsize)         #prints size of the array"
   ]
  },
  {
   "cell_type": "code",
   "execution_count": 12,
   "id": "fd7e53c8",
   "metadata": {},
   "outputs": [
    {
     "name": "stdout",
     "output_type": "stream",
     "text": [
      "speed of list :  114.10212516784668\n",
      "speed of numpy array :  15.388727188110352\n"
     ]
    }
   ],
   "source": [
    "import time                          # speed of numpy array is much faster than list\n",
    "import numpy as np\n",
    "size = 1000000\n",
    "\n",
    "#list\n",
    "l1 = range(size)\n",
    "l2 = range(size)\n",
    "start = time.time()\n",
    "result = [(x + y) for x,y in zip(l1,l2)]\n",
    "print(\"speed of list : \",(time.time() - start) * 1000)\n",
    "\n",
    "#numpy array\n",
    "start = time.time()\n",
    "arr1 = np.arange(size)\n",
    "arr2 = np.arange(size)\n",
    "result = arr1 + arr2\n",
    "print(\"speed of numpy array : \",(time.time() - start) * 1000)"
   ]
  },
  {
   "cell_type": "code",
   "execution_count": 46,
   "id": "a2623833-3027-461f-8383-8fb7221d14ed",
   "metadata": {},
   "outputs": [
    {
     "name": "stdout",
     "output_type": "stream",
     "text": [
      "[1 2 3 4 5]\n"
     ]
    },
    {
     "data": {
      "text/plain": [
       "1"
      ]
     },
     "execution_count": 46,
     "metadata": {},
     "output_type": "execute_result"
    }
   ],
   "source": [
    "a = np.array([1,2,3,4,5], dtype = np.int8)\n",
    "print(a)\n",
    "a.itemsize"
   ]
  },
  {
   "cell_type": "code",
   "execution_count": 14,
   "id": "9268a6f5-7bdb-4d9d-8d41-07b93ab672fe",
   "metadata": {},
   "outputs": [
    {
     "name": "stdout",
     "output_type": "stream",
     "text": [
      "[[0 0 0 0]\n",
      " [0 0 0 0]\n",
      " [0 0 0 0]]\n"
     ]
    }
   ],
   "source": [
    "a = np.zeros((3,4), dtype = int)\n",
    "print(a)"
   ]
  },
  {
   "cell_type": "code",
   "execution_count": 16,
   "id": "8eafab1f-cc14-49c0-a072-682dfb210713",
   "metadata": {},
   "outputs": [
    {
     "name": "stdout",
     "output_type": "stream",
     "text": [
      "[1 3]\n"
     ]
    }
   ],
   "source": [
    "a = np.arange(1, 5, 2)\n",
    "print(a)"
   ]
  },
  {
   "cell_type": "code",
   "execution_count": 40,
   "id": "a87da782-b6a1-413e-8ae3-ab63cb573cb2",
   "metadata": {},
   "outputs": [
    {
     "data": {
      "text/plain": [
       "array([[1],\n",
       "       [2],\n",
       "       [4],\n",
       "       [5],\n",
       "       [7],\n",
       "       [8]])"
      ]
     },
     "execution_count": 40,
     "metadata": {},
     "output_type": "execute_result"
    }
   ],
   "source": [
    "a3 = np.array([[[1,2], [4, 5], [7, 8]]])\n",
    "a3.reshape(6,1)"
   ]
  },
  {
   "cell_type": "code",
   "execution_count": 39,
   "id": "3255adaf-936a-4331-b8c0-887fa7ba3d7f",
   "metadata": {},
   "outputs": [
    {
     "data": {
      "text/plain": [
       "array([1, 2, 4, 5, 7, 8])"
      ]
     },
     "execution_count": 39,
     "metadata": {},
     "output_type": "execute_result"
    }
   ],
   "source": [
    "a3.ravel()    #make the array linear   "
   ]
  },
  {
   "cell_type": "code",
   "execution_count": 26,
   "id": "b978986d-3685-40dd-916a-30df4c38c433",
   "metadata": {},
   "outputs": [
    {
     "data": {
      "text/plain": [
       "1"
      ]
     },
     "execution_count": 26,
     "metadata": {},
     "output_type": "execute_result"
    }
   ],
   "source": [
    "a3.min()"
   ]
  },
  {
   "cell_type": "code",
   "execution_count": 27,
   "id": "de16580d-d8c5-4826-86bb-374a5b6984a7",
   "metadata": {},
   "outputs": [
    {
     "data": {
      "text/plain": [
       "8"
      ]
     },
     "execution_count": 27,
     "metadata": {},
     "output_type": "execute_result"
    }
   ],
   "source": [
    "a3.max()"
   ]
  },
  {
   "cell_type": "code",
   "execution_count": 28,
   "id": "b817f042-decb-44cc-82af-6907f0494914",
   "metadata": {},
   "outputs": [
    {
     "data": {
      "text/plain": [
       "27"
      ]
     },
     "execution_count": 28,
     "metadata": {},
     "output_type": "execute_result"
    }
   ],
   "source": [
    "a3.sum()   #sums up all the elements"
   ]
  },
  {
   "cell_type": "code",
   "execution_count": 29,
   "id": "83c9eaca-649a-46ee-84c9-04ee4a2ded9e",
   "metadata": {},
   "outputs": [
    {
     "data": {
      "text/plain": [
       "array([12, 15])"
      ]
     },
     "execution_count": 29,
     "metadata": {},
     "output_type": "execute_result"
    }
   ],
   "source": [
    "a3.sum(axis = 0)      # axis 0 is along the column"
   ]
  },
  {
   "cell_type": "code",
   "execution_count": 30,
   "id": "b89929d9-17b8-48c5-8226-bc4ce7aa8ed9",
   "metadata": {},
   "outputs": [
    {
     "data": {
      "text/plain": [
       "array([ 3,  9, 15])"
      ]
     },
     "execution_count": 30,
     "metadata": {},
     "output_type": "execute_result"
    }
   ],
   "source": [
    "a3.sum(axis = 1)         #axis 1 is along the row"
   ]
  },
  {
   "cell_type": "code",
   "execution_count": 33,
   "id": "fc6e1111-2d3b-41f4-91e4-72e080154f60",
   "metadata": {},
   "outputs": [
    {
     "data": {
      "text/plain": [
       "array([[1.        , 1.41421356],\n",
       "       [2.        , 2.23606798],\n",
       "       [2.64575131, 2.82842712]])"
      ]
     },
     "execution_count": 33,
     "metadata": {},
     "output_type": "execute_result"
    }
   ],
   "source": [
    "np.sqrt(a3)        # square root"
   ]
  },
  {
   "cell_type": "code",
   "execution_count": 41,
   "id": "b374855f-d466-494c-83b4-15fbeb76ed10",
   "metadata": {},
   "outputs": [
    {
     "data": {
      "text/plain": [
       "1.0"
      ]
     },
     "execution_count": 41,
     "metadata": {},
     "output_type": "execute_result"
    }
   ],
   "source": [
    "np.std(a)     #standard eviation"
   ]
  },
  {
   "cell_type": "code",
   "execution_count": null,
   "id": "808f95ce-4ac4-4748-975d-7a29987c9cb4",
   "metadata": {},
   "outputs": [],
   "source": []
  }
 ],
 "metadata": {
  "kernelspec": {
   "display_name": "Python 3 (ipykernel)",
   "language": "python",
   "name": "python3"
  },
  "language_info": {
   "codemirror_mode": {
    "name": "ipython",
    "version": 3
   },
   "file_extension": ".py",
   "mimetype": "text/x-python",
   "name": "python",
   "nbconvert_exporter": "python",
   "pygments_lexer": "ipython3",
   "version": "3.10.9"
  }
 },
 "nbformat": 4,
 "nbformat_minor": 5
}
