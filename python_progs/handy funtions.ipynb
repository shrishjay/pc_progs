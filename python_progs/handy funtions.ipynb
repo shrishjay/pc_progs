{
 "cells": [
  {
   "cell_type": "code",
   "execution_count": 1,
   "id": "4e037886",
   "metadata": {},
   "outputs": [
    {
     "name": "stdout",
     "output_type": "stream",
     "text": [
      "0123456789"
     ]
    }
   ],
   "source": [
    "# end funtion\n",
    "for i in range(0,10):\n",
    "    print(i, end='')"
   ]
  },
  {
   "cell_type": "code",
   "execution_count": 2,
   "id": "b0c82ca6",
   "metadata": {},
   "outputs": [
    {
     "name": "stdout",
     "output_type": "stream",
     "text": [
      "[('Exorcist', 'Horror'), ('Sherlock Holmes', 'Detective'), ('John Wick', 'Action'), ('Titanic', 'Romantic')]\n",
      "{'Exorcist': 'Horror', 'Sherlock Holmes': 'Detective', 'John Wick': 'Action', 'Titanic': 'Romantic'}\n"
     ]
    }
   ],
   "source": [
    "# zip funtion\n",
    "\n",
    "l1 = ['Exorcist', 'Sherlock Holmes', \"John Wick\", 'Titanic']\n",
    "l2 = ['Horror', 'Detective', 'Action', 'Romantic']\n",
    "zipped = list(zip(l1, l2))\n",
    "print(zipped)\n",
    "zipped2 = dict(zip(l1, l2))\n",
    "print(zipped2)"
   ]
  },
  {
   "cell_type": "code",
   "execution_count": 3,
   "id": "fc6d2075-4990-4eca-b2e3-dbe9ae2c8270",
   "metadata": {},
   "outputs": [
    {
     "name": "stdout",
     "output_type": "stream",
     "text": [
      "('Exorcist', 'Sherlock Holmes', 'John Wick', 'Titanic')\n",
      "('Horror', 'Detective', 'Action', 'Romantic')\n"
     ]
    }
   ],
   "source": [
    "# unzip\n",
    "a, b = zip(*zipped)     # * is used to unzip\n",
    "print(a)\n",
    "print(b)"
   ]
  },
  {
   "cell_type": "code",
   "execution_count": null,
   "id": "aad01c82-484a-4d27-a4e3-38015c8b17cb",
   "metadata": {},
   "outputs": [],
   "source": []
  }
 ],
 "metadata": {
  "kernelspec": {
   "display_name": "Python 3 (ipykernel)",
   "language": "python",
   "name": "python3"
  },
  "language_info": {
   "codemirror_mode": {
    "name": "ipython",
    "version": 3
   },
   "file_extension": ".py",
   "mimetype": "text/x-python",
   "name": "python",
   "nbconvert_exporter": "python",
   "pygments_lexer": "ipython3",
   "version": "3.10.9"
  }
 },
 "nbformat": 4,
 "nbformat_minor": 5
}
