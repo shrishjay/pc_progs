{
 "cells": [
  {
   "cell_type": "code",
   "execution_count": 2,
   "id": "f8b6a035",
   "metadata": {},
   "outputs": [
    {
     "name": "stdout",
     "output_type": "stream",
     "text": [
      "we\n",
      "elc\n",
      "lcome\n",
      "lcom\n"
     ]
    }
   ],
   "source": [
    "#string slicing\n",
    "\n",
    "s='welcome'\n",
    "print(s[:2])\n",
    "print(s[1:4])\n",
    "print(s[2:])\n",
    "print(s[2:-1])"
   ]
  },
  {
   "cell_type": "code",
   "execution_count": 3,
   "id": "c6e8be44",
   "metadata": {},
   "outputs": [
    {
     "name": "stdout",
     "output_type": "stream",
     "text": [
      "abcdef\n"
     ]
    }
   ],
   "source": [
    "#string concatenation\n",
    "\n",
    "s1='abc'\n",
    "s2='def'\n",
    "s3=s1+s2\n",
    "print(s3)"
   ]
  },
  {
   "cell_type": "code",
   "execution_count": 4,
   "id": "0905fedd",
   "metadata": {},
   "outputs": [
    {
     "name": "stdout",
     "output_type": "stream",
     "text": [
      "7\n"
     ]
    }
   ],
   "source": [
    "#string length\n",
    "\n",
    "print(len(s))"
   ]
  },
  {
   "cell_type": "code",
   "execution_count": 7,
   "id": "25e30157",
   "metadata": {},
   "outputs": [
    {
     "name": "stdout",
     "output_type": "stream",
     "text": [
      "2\n"
     ]
    }
   ],
   "source": [
    "#count funtion\n",
    "\n",
    "s='this is a cat'\n",
    "print(s.count('is'))"
   ]
  },
  {
   "cell_type": "code",
   "execution_count": 9,
   "id": "ee4dce6b",
   "metadata": {
    "scrolled": true
   },
   "outputs": [
    {
     "data": {
      "text/plain": [
       "False"
      ]
     },
     "execution_count": 9,
     "metadata": {},
     "output_type": "execute_result"
    }
   ],
   "source": [
    "#starts with/ends with funtion\n",
    "\n",
    "s.endswith('t')\n",
    "s.endswith('T')\n",
    "s.endswith('d')"
   ]
  },
  {
   "cell_type": "code",
   "execution_count": 12,
   "id": "41c90c61",
   "metadata": {},
   "outputs": [
    {
     "name": "stdout",
     "output_type": "stream",
     "text": [
      "-1\n",
      "0\n",
      "12\n"
     ]
    }
   ],
   "source": [
    "#find method/rfind\n",
    "\n",
    "print(s.find('T'))\n",
    "print(s.find('t'))\n",
    "print(s.rfind('t'))   #from right most position"
   ]
  },
  {
   "cell_type": "code",
   "execution_count": 15,
   "id": "33710eb8",
   "metadata": {},
   "outputs": [
    {
     "name": "stdout",
     "output_type": "stream",
     "text": [
      "2\n",
      "5\n"
     ]
    }
   ],
   "source": [
    "#index funtion(same as find but shows error if not found instead of -1)\n",
    "\n",
    "print(s.index('i'))\n",
    "print(s.rindex('i'))"
   ]
  },
  {
   "cell_type": "code",
   "execution_count": 17,
   "id": "72f1ef77",
   "metadata": {},
   "outputs": [
    {
     "data": {
      "text/plain": [
       "False"
      ]
     },
     "execution_count": 17,
     "metadata": {},
     "output_type": "execute_result"
    }
   ],
   "source": [
    "#isalnum funtion(alphanumeric)(checks if string has both alphabet and number)\n",
    "s='a1132'\n",
    "s.isalnum()\n",
    "s='s-b'\n",
    "s.isalnum()"
   ]
  },
  {
   "cell_type": "code",
   "execution_count": 1,
   "id": "7c2b3b97",
   "metadata": {},
   "outputs": [
    {
     "name": "stdout",
     "output_type": "stream",
     "text": [
      "Hello python\n"
     ]
    }
   ],
   "source": [
    "#capitalize(upper case in first letter)\n",
    "x='hello python'\n",
    "print(x.capitalize())"
   ]
  },
  {
   "cell_type": "code",
   "execution_count": 1,
   "id": "e9725efb",
   "metadata": {},
   "outputs": [
    {
     "name": "stdout",
     "output_type": "stream",
     "text": [
      "2\n"
     ]
    }
   ],
   "source": [
    "#count funtion\n",
    "\n",
    "s='this is a cat'\n",
    "print(s.count('is'))"
   ]
  },
  {
   "cell_type": "code",
   "execution_count": 2,
   "id": "88e75341",
   "metadata": {},
   "outputs": [
    {
     "data": {
      "text/plain": [
       "False"
      ]
     },
     "execution_count": 2,
     "metadata": {},
     "output_type": "execute_result"
    }
   ],
   "source": [
    "#endswith and startswith\n",
    "\n",
    "s.endswith('t')\n",
    "s.endswith('d')\n",
    "s.startswith('T')"
   ]
  },
  {
   "cell_type": "code",
   "execution_count": 3,
   "id": "f8e72e32",
   "metadata": {},
   "outputs": [
    {
     "name": "stdout",
     "output_type": "stream",
     "text": [
      "hello world 34\n"
     ]
    }
   ],
   "source": [
    "#format funtion(adding anything in a string)\n",
    "a='hello world {}'\n",
    "print(a.format(34))"
   ]
  },
  {
   "cell_type": "code",
   "execution_count": 4,
   "id": "47faa8e3",
   "metadata": {},
   "outputs": [
    {
     "data": {
      "text/plain": [
       "'hello world'"
      ]
     },
     "execution_count": 4,
     "metadata": {},
     "output_type": "execute_result"
    }
   ],
   "source": [
    "a=' hello world '\n",
    "a.strip()"
   ]
  },
  {
   "cell_type": "code",
   "execution_count": null,
   "id": "57db65f5",
   "metadata": {},
   "outputs": [],
   "source": []
  }
 ],
 "metadata": {
  "kernelspec": {
   "display_name": "Python 3 (ipykernel)",
   "language": "python",
   "name": "python3"
  },
  "language_info": {
   "codemirror_mode": {
    "name": "ipython",
    "version": 3
   },
   "file_extension": ".py",
   "mimetype": "text/x-python",
   "name": "python",
   "nbconvert_exporter": "python",
   "pygments_lexer": "ipython3",
   "version": "3.9.13"
  }
 },
 "nbformat": 4,
 "nbformat_minor": 5
}
