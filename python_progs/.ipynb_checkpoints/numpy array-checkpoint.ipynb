{
 "cells": [
  {
   "cell_type": "code",
   "execution_count": 1,
   "id": "c2959326",
   "metadata": {},
   "outputs": [
    {
     "name": "stdout",
     "output_type": "stream",
     "text": [
      "[1 2 3 4]\n",
      "[[1 2 3 4]\n",
      " [5 6 7 8]]\n",
      "[[[ 1  2  3  4  5  6  7  8  9 10 11 12]]]\n"
     ]
    }
   ],
   "source": [
    "import numpy as np\n",
    "a1=np.array([1,2,3,4])      #1D array\n",
    "print(a1)\n",
    "a2=np.array([[1,2,3,4], [5,6,7,8]])        #2D array\n",
    "print(a2)\n",
    "a3=np.array([1,2,3,4,5,6,7,8,9,10,11,12], ndmin=3) #3D array\n",
    "print(a3)"
   ]
  },
  {
   "cell_type": "code",
   "execution_count": 1,
   "id": "388a0819",
   "metadata": {},
   "outputs": [
    {
     "name": "stdout",
     "output_type": "stream",
     "text": [
      "28000\n",
      "8000\n"
     ]
    }
   ],
   "source": [
    "# why use array instead of list\n",
    "import sys\n",
    "import numpy as np\n",
    "l = range(1000)\n",
    "print(sys.getsizeof(5) * len(l))      #prints size of the list\n",
    "\n",
    "arr = np.arange(1000)\n",
    "print(arr.size * arr.itemsize)         #prints size of the array"
   ]
  },
  {
   "cell_type": "code",
   "execution_count": 12,
   "id": "fd7e53c8",
   "metadata": {},
   "outputs": [
    {
     "name": "stdout",
     "output_type": "stream",
     "text": [
      "speed of list :  114.10212516784668\n",
      "speed of numpy array :  15.388727188110352\n"
     ]
    }
   ],
   "source": [
    "import time                          # speed of numpy array is much faster than list\n",
    "import numpy as np\n",
    "size = 1000000\n",
    "\n",
    "#list\n",
    "l1 = range(size)\n",
    "l2 = range(size)\n",
    "start = time.time()\n",
    "result = [(x + y) for x,y in zip(l1,l2)]\n",
    "print(\"speed of list : \",(time.time() - start) * 1000)\n",
    "\n",
    "#numpy array\n",
    "start = time.time()\n",
    "arr1 = np.arange(size)\n",
    "arr2 = np.arange(size)\n",
    "result = arr1 + arr2\n",
    "print(\"speed of numpy array : \",(time.time() - start) * 1000)"
   ]
  },
  {
   "cell_type": "code",
   "execution_count": null,
   "id": "a2623833-3027-461f-8383-8fb7221d14ed",
   "metadata": {},
   "outputs": [],
   "source": []
  }
 ],
 "metadata": {
  "kernelspec": {
   "display_name": "Python 3 (ipykernel)",
   "language": "python",
   "name": "python3"
  },
  "language_info": {
   "codemirror_mode": {
    "name": "ipython",
    "version": 3
   },
   "file_extension": ".py",
   "mimetype": "text/x-python",
   "name": "python",
   "nbconvert_exporter": "python",
   "pygments_lexer": "ipython3",
   "version": "3.10.9"
  }
 },
 "nbformat": 4,
 "nbformat_minor": 5
}
