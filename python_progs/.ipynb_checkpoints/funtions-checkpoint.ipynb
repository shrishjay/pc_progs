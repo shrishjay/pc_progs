{
 "cells": [
  {
   "cell_type": "code",
   "execution_count": 5,
   "id": "9c336613-9a5c-44b8-b4cf-ec08426787f4",
   "metadata": {},
   "outputs": [
    {
     "name": "stdout",
     "output_type": "stream",
     "text": [
      "\u001b[38;2;60;181;140m Hey buddy\n"
     ]
    }
   ],
   "source": [
    "# colour the terminal text\n",
    "import random\n",
    "from sty import fg\n",
    "\n",
    "def generateRGB():\n",
    "    red = random.randint(0, 256)\n",
    "    green = random.randint(0, 256)\n",
    "    blue = random.randint(0, 256)\n",
    "    return red, green, blue\n",
    "\n",
    "def generateColour(red, green, blue):\n",
    "    return fg(red, green, blue)\n",
    "\n",
    "red, green, blue = generateRGB()\n",
    "colour = generateColour(red, green, blue)\n",
    "\n",
    "print(colour, \"Hey buddy\")"
   ]
  },
  {
   "cell_type": "code",
   "execution_count": 4,
   "id": "d8da594e-9441-4646-a802-e8fc3ce926fa",
   "metadata": {},
   "outputs": [
    {
     "name": "stdout",
     "output_type": "stream",
     "text": [
      "Requirement already satisfied: sty in /home/shrishjay/anaconda3/lib/python3.10/site-packages (1.0.4)\n",
      "Note: you may need to restart the kernel to use updated packages.\n"
     ]
    }
   ],
   "source": [
    "pip install sty\n"
   ]
  },
  {
   "cell_type": "code",
   "execution_count": null,
   "id": "32c27e3a-5dfc-49ba-b299-5da3f0374c2f",
   "metadata": {},
   "outputs": [],
   "source": []
  }
 ],
 "metadata": {
  "kernelspec": {
   "display_name": "Python 3 (ipykernel)",
   "language": "python",
   "name": "python3"
  },
  "language_info": {
   "codemirror_mode": {
    "name": "ipython",
    "version": 3
   },
   "file_extension": ".py",
   "mimetype": "text/x-python",
   "name": "python",
   "nbconvert_exporter": "python",
   "pygments_lexer": "ipython3",
   "version": "3.10.9"
  }
 },
 "nbformat": 4,
 "nbformat_minor": 5
}
