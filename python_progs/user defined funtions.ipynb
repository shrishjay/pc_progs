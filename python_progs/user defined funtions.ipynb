{
 "cells": [
  {
   "cell_type": "code",
   "execution_count": 5,
   "id": "34495f3c",
   "metadata": {},
   "outputs": [
    {
     "name": "stdout",
     "output_type": "stream",
     "text": [
      "NAME= shrishjay acharya SALARY= 150000 DOB= 0.0013972055888223551\n"
     ]
    }
   ],
   "source": [
    "#keyword argument\n",
    "def get_emp(name,salary,dob):\n",
    "    print('NAME=',name,'SALARY=',salary,'DOB=',dob)\n",
    "#call the funtion\n",
    "get_emp(name='shrishjay acharya',salary=150000,dob=28/10/2004)"
   ]
  },
  {
   "cell_type": "code",
   "execution_count": 4,
   "id": "9ebb4ef3",
   "metadata": {},
   "outputs": [
    {
     "name": "stdout",
     "output_type": "stream",
     "text": [
      "enter 1st number6\n",
      "enter 2nd number7\n",
      "sum= 13\n"
     ]
    }
   ],
   "source": [
    "#required positional argument\n",
    "def add():\n",
    "    x=int(input('enter 1st number'))\n",
    "    y=int(input('enter 2nd number'))\n",
    "    z=x+y\n",
    "    print('sum=',z)\n",
    "#calling\n",
    "add()"
   ]
  },
  {
   "cell_type": "code",
   "execution_count": 8,
   "id": "efd7b770",
   "metadata": {},
   "outputs": [
    {
     "name": "stdout",
     "output_type": "stream",
     "text": [
      "21\n"
     ]
    }
   ],
   "source": [
    "#variable length argument\n",
    "def add(*n):\n",
    "    z=0\n",
    "    for i in n:\n",
    "        z+=i\n",
    "    return z\n",
    "#calling\n",
    "x=add(1,4,7,9)\n",
    "print(x)"
   ]
  },
  {
   "cell_type": "code",
   "execution_count": 11,
   "id": "5ea3eb87",
   "metadata": {},
   "outputs": [
    {
     "name": "stdout",
     "output_type": "stream",
     "text": [
      "name= shrishjay place= kolkata\n"
     ]
    }
   ],
   "source": [
    "#default argument\n",
    "def get_person(name,place='kolkata'):\n",
    "    print('name=',name,'place=',place)\n",
    "#call\n",
    "get_person('shrishjay')"
   ]
  },
  {
   "cell_type": "code",
   "execution_count": null,
   "id": "09a14fb3",
   "metadata": {},
   "outputs": [],
   "source": []
  }
 ],
 "metadata": {
  "kernelspec": {
   "display_name": "Python 3 (ipykernel)",
   "language": "python",
   "name": "python3"
  },
  "language_info": {
   "codemirror_mode": {
    "name": "ipython",
    "version": 3
   },
   "file_extension": ".py",
   "mimetype": "text/x-python",
   "name": "python",
   "nbconvert_exporter": "python",
   "pygments_lexer": "ipython3",
   "version": "3.9.13"
  }
 },
 "nbformat": 4,
 "nbformat_minor": 5
}
