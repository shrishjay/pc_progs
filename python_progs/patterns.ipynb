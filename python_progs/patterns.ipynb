{
 "cells": [
  {
   "cell_type": "code",
   "execution_count": 24,
   "id": "33d2515b",
   "metadata": {
    "scrolled": true
   },
   "outputs": [
    {
     "name": "stdout",
     "output_type": "stream",
     "text": [
      "please enter no of rows5\n",
      "    *\n",
      "   ***\n",
      "  *****\n",
      " *******\n",
      "*********\n",
      " \n",
      "  \n",
      "   \n",
      "    \n",
      "     \n"
     ]
    }
   ],
   "source": [
    "rows=int(input('please enter no of rows'))\n",
    "for i in range(1,rows+1):\n",
    "    for j in range(0,rows-i):\n",
    "        print(' ',end='')\n",
    "    for j in range(0,(2*i)-1):\n",
    "        print('*',end='')\n",
    "    print('\\r')\n",
    "for i in range(1,rows+1):\n",
    "    for j in range(0,i):\n",
    "        print(' ',end='')\n",
    "    for j in range((2*i)-1,0-1):\n",
    "        print('*',end='')\n",
    "    print('\\r')"
   ]
  },
  {
   "cell_type": "code",
   "execution_count": null,
   "id": "92085de8",
   "metadata": {},
   "outputs": [],
   "source": []
  }
 ],
 "metadata": {
  "kernelspec": {
   "display_name": "Python 3 (ipykernel)",
   "language": "python",
   "name": "python3"
  },
  "language_info": {
   "codemirror_mode": {
    "name": "ipython",
    "version": 3
   },
   "file_extension": ".py",
   "mimetype": "text/x-python",
   "name": "python",
   "nbconvert_exporter": "python",
   "pygments_lexer": "ipython3",
   "version": "3.9.13"
  }
 },
 "nbformat": 4,
 "nbformat_minor": 5
}
