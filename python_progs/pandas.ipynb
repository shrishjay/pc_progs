{
 "cells": [
  {
   "cell_type": "code",
   "execution_count": 5,
   "id": "86c0e91a",
   "metadata": {},
   "outputs": [
    {
     "name": "stdout",
     "output_type": "stream",
     "text": [
      "0    1\n",
      "1    7\n",
      "2    2\n",
      "dtype: int64\n",
      "<class 'pandas.core.series.Series'>\n"
     ]
    }
   ],
   "source": [
    "import pandas as pd\n",
    "#Create a simple pandas series from a list\n",
    "a = [1,7,2]\n",
    "myvar = pd.Series(a)\n",
    "print(myvar)\n",
    "print(type(myvar))"
   ]
  },
  {
   "cell_type": "code",
   "execution_count": 4,
   "id": "8bf7c2ef",
   "metadata": {},
   "outputs": [
    {
     "name": "stdout",
     "output_type": "stream",
     "text": [
      "1\n"
     ]
    }
   ],
   "source": [
    "#Print the 1st value of the series\n",
    "print(myvar[0])"
   ]
  },
  {
   "cell_type": "code",
   "execution_count": 5,
   "id": "f018ed19",
   "metadata": {},
   "outputs": [
    {
     "name": "stdout",
     "output_type": "stream",
     "text": [
      "x    1\n",
      "y    7\n",
      "z    2\n",
      "dtype: int64\n"
     ]
    }
   ],
   "source": [
    "#Create ypur own labels\n",
    "myvar = pd.Series(a, index = ['x','y','z'])\n",
    "print(myvar)"
   ]
  },
  {
   "cell_type": "code",
   "execution_count": 6,
   "id": "c7abebef",
   "metadata": {},
   "outputs": [
    {
     "name": "stdout",
     "output_type": "stream",
     "text": [
      "7\n"
     ]
    }
   ],
   "source": [
    "#Print the value of label y\n",
    "print(myvar['y'])"
   ]
  },
  {
   "cell_type": "code",
   "execution_count": 6,
   "id": "f20514ab",
   "metadata": {},
   "outputs": [
    {
     "name": "stdout",
     "output_type": "stream",
     "text": [
      "day1    420\n",
      "day2    380\n",
      "day3    390\n",
      "dtype: int64\n"
     ]
    }
   ],
   "source": [
    "#Create a simple pandas series from a dictionary\n",
    "calories = {\"day1\" : 420,\n",
    " \"day2\" : 380,\n",
    "\"day3\" : 390 }\n",
    "myvar = pd.Series(calories)\n",
    "print(myvar)"
   ]
  },
  {
   "cell_type": "code",
   "execution_count": 7,
   "id": "b69703de",
   "metadata": {},
   "outputs": [
    {
     "name": "stdout",
     "output_type": "stream",
     "text": [
      "day1    420\n",
      "day3    390\n",
      "dtype: int64\n"
     ]
    }
   ],
   "source": [
    "#Create a Series using only data from day1 and day3\n",
    "myvar = pd.Series(calories,index = [\"day1\",\"day3\"])\n",
    "print(myvar)"
   ]
  },
  {
   "cell_type": "raw",
   "id": "16bd7adc",
   "metadata": {},
   "source": []
  },
  {
   "cell_type": "code",
   "execution_count": 9,
   "id": "00dcd283",
   "metadata": {},
   "outputs": [
    {
     "name": "stdout",
     "output_type": "stream",
     "text": [
      "   calories  duration\n",
      "0       420        50\n",
      "1       380        40\n",
      "2       390        45\n",
      "<class 'pandas.core.frame.DataFrame'>\n"
     ]
    }
   ],
   "source": [
    "#Create a DataFrame from two Series\n",
    "data = {\"calories\" : [420, 380, 390],\n",
    "            \"duration\" : [50, 40, 45]}\n",
    "myvar = pd.DataFrame(data)\n",
    "print(myvar)\n",
    "print(type(myvar))"
   ]
  },
  {
   "cell_type": "code",
   "execution_count": 10,
   "id": "0f41bb56",
   "metadata": {},
   "outputs": [
    {
     "name": "stdout",
     "output_type": "stream",
     "text": [
      "calories    420.0\n",
      "duration     50.0\n",
      "Name: 0, dtype: float64\n",
      "Duration : 50\n",
      "Duration  : 50\n"
     ]
    }
   ],
   "source": [
    "#Locate a row\n",
    "#Create a DataFrame from two Series\n",
    "data = {\"calories\" : [420, 380.1, 390.5],\n",
    "            \"duration\" : [50,40,45]}\n",
    "df = pd.DataFrame(data)\n",
    "#Return row 0\n",
    "#refer to the row index\n",
    "print(df.iloc[0])\n",
    "#Return value of only \"duration\" of row 0\n",
    "print(\"Duration :\", df.iloc[0,1])\n",
    "#use loc attribute to access colum with label\n",
    "print(\"Duration  :\", df.loc[0,\"duration\"])"
   ]
  },
  {
   "cell_type": "code",
   "execution_count": 11,
   "id": "3cac98f2",
   "metadata": {},
   "outputs": [
    {
     "name": "stdout",
     "output_type": "stream",
     "text": [
      "   calories  duration\n",
      "0     420.0        50\n",
      "1     380.1        40\n"
     ]
    }
   ],
   "source": [
    "#Access series of rows\n",
    "indexes = [0,1]\n",
    "print(df.iloc[indexes])            #OR iloc[[0,1]] (nothing after comma so only shows rows)"
   ]
  },
  {
   "cell_type": "code",
   "execution_count": 12,
   "id": "2ed2163c",
   "metadata": {},
   "outputs": [
    {
     "name": "stdout",
     "output_type": "stream",
     "text": [
      "Numpy array is\n",
      "[[420.   50. ]\n",
      " [380.1  40. ]\n",
      " [390.5  45. ]]\n"
     ]
    }
   ],
   "source": [
    "import numpy as np\n",
    "arr = df.values                 #value returns an array from dataframe\n",
    "print(\"Numpy array is\")\n",
    "print(arr)"
   ]
  },
  {
   "cell_type": "code",
   "execution_count": 7,
   "id": "31235855",
   "metadata": {},
   "outputs": [
    {
     "name": "stdout",
     "output_type": "stream",
     "text": [
      "calories    380\n",
      "duration     40\n",
      "Name: day2, dtype: int64\n",
      "40\n"
     ]
    }
   ],
   "source": [
    "#Accessing a DataFrame using loc\n",
    "data = {\"calories\" : [420, 380, 390], \"duration\" : [50, 40, 45]}\n",
    "df = pd.DataFrame(data,index = [\"day1\", \"day2\", \"day3\"])\n",
    "#Return \"day2\"\n",
    "#refer to the name index\n",
    "print(df.loc[\"day2\"])\n",
    "#Accessing the duration of \"day2\"\n",
    "print(df.loc[\"day2\",\"duration\"])"
   ]
  },
  {
   "cell_type": "code",
   "execution_count": 8,
   "id": "bc953392",
   "metadata": {},
   "outputs": [],
   "source": [
    "#Reading a .csv file\n",
    "df = pd.read_csv('data.csv')\n",
    "print(df)\n",
    "print(type(df))"
   ]
  },
  {
   "cell_type": "code",
   "execution_count": 9,
   "id": "3e5ac981",
   "metadata": {},
   "outputs": [],
   "source": [
    "#Create a fata frame from .csv file and show all rows of data frame\n",
    "df = pd.read_csv('data.csv')\n",
    "#Print the DataFrame with the to_string() method\n",
    "print(df.to_string())"
   ]
  },
  {
   "cell_type": "code",
   "execution_count": 10,
   "id": "005fd221",
   "metadata": {},
   "outputs": [],
   "source": [
    "#Use of head()   (show no. of records)\n",
    "print(\"Use of head without argument\")\n",
    "print(df.head())        #show 1st five records\n",
    "print(\"Use of head with argument\")\n",
    "print(df.head(7))      #show 1st seven records"
   ]
  },
  {
   "cell_type": "code",
   "execution_count": 12,
   "id": "05fea545",
   "metadata": {},
   "outputs": [],
   "source": [
    "#Use of tail()\n",
    "print(\"Tail without argument\")\n",
    "print(df.tail())\n",
    "print(\"Tail without argument\")\n",
    "print(df.tail(15))"
   ]
  },
  {
   "cell_type": "code",
   "execution_count": null,
   "id": "1f03a63a",
   "metadata": {},
   "outputs": [],
   "source": [
    "#Showing meta data information about data\n",
    "print(df.info())"
   ]
  },
  {
   "cell_type": "code",
   "execution_count": 1,
   "id": "50dc1b7f",
   "metadata": {},
   "outputs": [],
   "source": [
    "#Plot a line graph using pandas\n",
    "import matplotlib.pyplot as plt\n",
    "df.plot()\n",
    "plt.show()"
   ]
  },
  {
   "cell_type": "code",
   "execution_count": null,
   "id": "e0b212cd",
   "metadata": {},
   "outputs": [],
   "source": [
    "#Draw a scatter graph\n",
    "df.plot(kind = \"scatter\", x = \"Duration\", y = \"Calories\")\n",
    "plt.show()"
   ]
  },
  {
   "cell_type": "code",
   "execution_count": null,
   "id": "c3cc75a0",
   "metadata": {},
   "outputs": [],
   "source": [
    "#histogram for one column\n",
    "df[\"Duration\"].plot(kind = \"hist\")\n",
    "plt.show()"
   ]
  },
  {
   "cell_type": "code",
   "execution_count": null,
   "id": "c2c1cb0b",
   "metadata": {},
   "outputs": [],
   "source": [
    "#Finding row and column total\n",
    "print(\"Column total\")\n",
    "s = df.sum(axis=0)\n",
    "print(s)\n",
    "print(\"Row total\")\n",
    "s1=df.sum(axis=1)\n",
    "print(s1)"
   ]
  },
  {
   "cell_type": "code",
   "execution_count": null,
   "id": "6bc6f7aa",
   "metadata": {},
   "outputs": [],
   "source": [
    "#Calculate the sum of values of each group of the DataFrame\n",
    "df = pd.read_csv('data1.csv')\n",
    "print(df.head(10))\n",
    "s = df.groupby('Name').sum()\n",
    "print(s)"
   ]
  },
  {
   "cell_type": "code",
   "execution_count": null,
   "id": "1bf99e1f",
   "metadata": {},
   "outputs": [],
   "source": []
  },
  {
   "cell_type": "code",
   "execution_count": null,
   "id": "092c8812",
   "metadata": {},
   "outputs": [],
   "source": []
  }
 ],
 "metadata": {
  "kernelspec": {
   "display_name": "Python 3 (ipykernel)",
   "language": "python",
   "name": "python3"
  },
  "language_info": {
   "codemirror_mode": {
    "name": "ipython",
    "version": 3
   },
   "file_extension": ".py",
   "mimetype": "text/x-python",
   "name": "python",
   "nbconvert_exporter": "python",
   "pygments_lexer": "ipython3",
   "version": "3.9.13"
  }
 },
 "nbformat": 4,
 "nbformat_minor": 5
}
