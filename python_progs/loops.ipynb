{
 "cells": [
  {
   "cell_type": "code",
   "execution_count": 10,
   "id": "f2ef07c4",
   "metadata": {},
   "outputs": [
    {
     "name": "stdout",
     "output_type": "stream",
     "text": [
      "2\n",
      "3\n",
      "4\n",
      "5\n",
      "6\n"
     ]
    }
   ],
   "source": [
    "#while loop\n",
    "\n",
    "i=1\n",
    "while i<=5:\n",
    "    i+=1\n",
    "    print(i)"
   ]
  },
  {
   "cell_type": "code",
   "execution_count": 9,
   "id": "f4ee662e",
   "metadata": {},
   "outputs": [
    {
     "name": "stdout",
     "output_type": "stream",
     "text": [
      "display 1 to 5\n",
      "1\n",
      "2\n",
      "3\n",
      "4\n",
      "5\n"
     ]
    }
   ],
   "source": [
    "#for loop\n",
    "\n",
    "print('display 1 to 5')\n",
    "for i in range(1,6):\n",
    "    print(i)"
   ]
  },
  {
   "cell_type": "code",
   "execution_count": 2,
   "id": "53c580cc",
   "metadata": {},
   "outputs": [
    {
     "name": "stdout",
     "output_type": "stream",
     "text": [
      "10\n",
      "9\n",
      "8\n",
      "7\n",
      "6\n",
      "5\n",
      "4\n",
      "3\n",
      "2\n",
      "1\n",
      "0\n"
     ]
    }
   ],
   "source": [
    "# reverse print\n",
    "for i in range(10,-1,-1):\n",
    "    print(i)"
   ]
  },
  {
   "cell_type": "code",
   "execution_count": 8,
   "id": "5ae1108a",
   "metadata": {},
   "outputs": [
    {
     "name": "stdout",
     "output_type": "stream",
     "text": [
      "display 0 to 4\n",
      "0\n",
      "1\n",
      "2\n",
      "3\n",
      "4\n"
     ]
    }
   ],
   "source": [
    "print('display 0 to 4')\n",
    "for i in range(5):\n",
    "    print(i)"
   ]
  },
  {
   "cell_type": "code",
   "execution_count": 7,
   "id": "e8058f31",
   "metadata": {},
   "outputs": [
    {
     "name": "stdout",
     "output_type": "stream",
     "text": [
      "display 1 3 5\n",
      "1\n",
      "3\n",
      "5\n"
     ]
    }
   ],
   "source": [
    "print('display 1 3 5')\n",
    "for i in range(1,6,2):\n",
    "    print(i)"
   ]
  },
  {
   "cell_type": "code",
   "execution_count": 6,
   "id": "3457743e",
   "metadata": {},
   "outputs": [
    {
     "name": "stdout",
     "output_type": "stream",
     "text": [
      "at loop body i= 1\n",
      "at loop body i= 2\n",
      "at loop body i= 3\n",
      "at loop body i= 4\n",
      "at loop body i= 5\n",
      "at else part\n"
     ]
    }
   ],
   "source": [
    "#else with for\n",
    "for i in range(1,6):\n",
    "    print('at loop body i=',i)\n",
    "else:\n",
    "    print('at else part')"
   ]
  },
  {
   "cell_type": "code",
   "execution_count": 5,
   "id": "4d7f944c",
   "metadata": {},
   "outputs": [
    {
     "name": "stdout",
     "output_type": "stream",
     "text": [
      "enter an integer: 7\n",
      "factorial= 5040\n"
     ]
    }
   ],
   "source": [
    "#calculate factorial of an integer\n",
    "\n",
    "n=int(input('enter an integer: '))\n",
    "f=1\n",
    "for i in range(1,n+1):\n",
    "    f=f*i\n",
    "print('factorial=',f)"
   ]
  },
  {
   "cell_type": "code",
   "execution_count": 4,
   "id": "e17c5050",
   "metadata": {},
   "outputs": [
    {
     "name": "stdout",
     "output_type": "stream",
     "text": [
      "i= 1 j= 1\n",
      "i= 1 j= 2\n",
      "i= 1 j= 3\n",
      "i= 2 j= 1\n",
      "i= 2 j= 2\n",
      "i= 2 j= 3\n",
      "i= 3 j= 1\n",
      "i= 3 j= 2\n",
      "i= 3 j= 3\n",
      "i= 4 j= 1\n",
      "i= 4 j= 2\n",
      "i= 4 j= 3\n",
      "i= 5 j= 1\n",
      "i= 5 j= 2\n",
      "i= 5 j= 3\n"
     ]
    }
   ],
   "source": [
    "#nested loops\n",
    "\n",
    "for i in range(1,6):\n",
    "    for j in range(1,4):\n",
    "        print('i=',i,'j=',j)"
   ]
  },
  {
   "cell_type": "code",
   "execution_count": 3,
   "id": "7713829e",
   "metadata": {},
   "outputs": [
    {
     "name": "stdout",
     "output_type": "stream",
     "text": [
      "at loop part i= 1\n",
      "at loop part i= 2\n",
      "at loop part i= 3\n",
      "at loop part i= 4\n",
      "at loop part i= 5\n",
      "at else part i= 6\n"
     ]
    }
   ],
   "source": [
    "#while with else part\n",
    "\n",
    "i=1\n",
    "while i<=5:\n",
    "    print('at loop part i=',i)\n",
    "    i+=1\n",
    "else:\n",
    "    print('at else part i=',i)"
   ]
  },
  {
   "cell_type": "code",
   "execution_count": 15,
   "id": "18491b52",
   "metadata": {},
   "outputs": [
    {
     "name": "stdout",
     "output_type": "stream",
     "text": [
      "12\n",
      "Weird\n"
     ]
    }
   ],
   "source": [
    "# if else\n",
    "n=int(input())\n",
    "if n%2!=0:\n",
    "    print('Weird')\n",
    "elif n%2==0 and n in range(2,5):\n",
    "    print('Not Weird')\n",
    "elif n%2==0 and n in range(6,21):\n",
    "    print('Weird')\n",
    "elif n%2==0 and n>20:\n",
    "    print('Not Weird')"
   ]
  }
 ],
 "metadata": {
  "kernelspec": {
   "display_name": "Python 3 (ipykernel)",
   "language": "python",
   "name": "python3"
  },
  "language_info": {
   "codemirror_mode": {
    "name": "ipython",
    "version": 3
   },
   "file_extension": ".py",
   "mimetype": "text/x-python",
   "name": "python",
   "nbconvert_exporter": "python",
   "pygments_lexer": "ipython3",
   "version": "3.9.13"
  }
 },
 "nbformat": 4,
 "nbformat_minor": 5
}
