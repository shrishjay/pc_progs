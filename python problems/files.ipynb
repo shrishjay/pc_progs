{
 "cells": [
  {
   "cell_type": "code",
   "execution_count": 1,
   "id": "f905ec44-61b9-474f-8776-810db2cc376b",
   "metadata": {},
   "outputs": [
    {
     "data": {
      "text/plain": [
       "'Two roads diverged in a yellow wood,\\nAnd sorry I could not travel both\\nAnd be one traveler, long I stood\\nAnd looked down one as far as I could\\nTo where it bent in the undergrowth;\\n\\nThen took the other, as just as fair,\\nAnd having perhaps the better claim,\\nBecause it was grassy and wanted wear;\\nThough as for that the passing there\\nHad worn them really about the same,\\n\\nAnd both that morning equally lay\\nIn leaves no step had trodden black.\\nOh, I kept the first for another day!\\nYet knowing how way leads on to way,\\nI doubted if I should ever come back.\\n\\nI shall be telling this with a sigh\\nSomewhere ages and ages hence:\\nTwo roads diverged in a wood, and I—\\nI took the one less traveled by,\\nAnd that has made all the difference.'"
      ]
     },
     "execution_count": 1,
     "metadata": {},
     "output_type": "execute_result"
    }
   ],
   "source": [
    "f = open(\"poem.txt\",\"r\")"
   ]
  },
  {
   "cell_type": "code",
   "execution_count": 2,
   "id": "8f77aba3-0f0d-49cb-9981-60fdf705a155",
   "metadata": {},
   "outputs": [
    {
     "name": "stdout",
     "output_type": "stream",
     "text": [
      "[['Two', 'roads', 'diverged', 'in', 'a', 'yellow', 'wood,'], ['And', 'sorry', 'I', 'could', 'not', 'travel', 'both'], ['And', 'be', 'one', 'traveler,', 'long', 'I', 'stood'], ['And', 'looked', 'down', 'one', 'as', 'far', 'as', 'I', 'could'], ['To', 'where', 'it', 'bent', 'in', 'the', 'undergrowth;'], [], ['Then', 'took', 'the', 'other,', 'as', 'just', 'as', 'fair,'], ['And', 'having', 'perhaps', 'the', 'better', 'claim,'], ['Because', 'it', 'was', 'grassy', 'and', 'wanted', 'wear;'], ['Though', 'as', 'for', 'that', 'the', 'passing', 'there'], ['Had', 'worn', 'them', 'really', 'about', 'the', 'same,'], [], ['And', 'both', 'that', 'morning', 'equally', 'lay'], ['In', 'leaves', 'no', 'step', 'had', 'trodden', 'black.'], ['Oh,', 'I', 'kept', 'the', 'first', 'for', 'another', 'day!'], ['Yet', 'knowing', 'how', 'way', 'leads', 'on', 'to', 'way,'], ['I', 'doubted', 'if', 'I', 'should', 'ever', 'come', 'back.'], [], ['I', 'shall', 'be', 'telling', 'this', 'with', 'a', 'sigh'], ['Somewhere', 'ages', 'and', 'ages', 'hence:'], ['Two', 'roads', 'diverged', 'in', 'a', 'wood,', 'and', 'I—'], ['I', 'took', 'the', 'one', 'less', 'traveled', 'by,'], ['And', 'that', 'has', 'made', 'all', 'the', 'difference.']]\n"
     ]
    }
   ],
   "source": [
    "f = open(\"poem.txt\",\"r\")\n",
    "l1 = []\n",
    "for line in f:\n",
    "    f_strip = line.strip()\n",
    "    f_split = f_strip.split()\n",
    "    l1.append(f_split)\n",
    "f.close()\n",
    "print(l1)"
   ]
  },
  {
   "cell_type": "code",
   "execution_count": 17,
   "id": "0eac0619-97ea-4628-bb88-f55e2b4836a1",
   "metadata": {},
   "outputs": [
    {
     "ename": "TypeError",
     "evalue": "unhashable type: 'list'",
     "output_type": "error",
     "traceback": [
      "\u001b[0;31m---------------------------------------------------------------------------\u001b[0m",
      "\u001b[0;31mTypeError\u001b[0m                                 Traceback (most recent call last)",
      "Cell \u001b[0;32mIn[17], line 2\u001b[0m\n\u001b[1;32m      1\u001b[0m \u001b[38;5;28;01mfrom\u001b[39;00m \u001b[38;5;21;01mcollections\u001b[39;00m \u001b[38;5;28;01mimport\u001b[39;00m Counter\n\u001b[0;32m----> 2\u001b[0m frequency \u001b[38;5;241m=\u001b[39m \u001b[43mCounter\u001b[49m\u001b[43m(\u001b[49m\u001b[43ml1\u001b[49m\u001b[43m)\u001b[49m\n\u001b[1;32m      3\u001b[0m \u001b[38;5;28mprint\u001b[39m(frequency\u001b[38;5;241m.\u001b[39mmost_common(\u001b[38;5;241m1\u001b[39m)[\u001b[38;5;241m0\u001b[39m])\n",
      "File \u001b[0;32m~/anaconda3/lib/python3.10/collections/__init__.py:577\u001b[0m, in \u001b[0;36mCounter.__init__\u001b[0;34m(self, iterable, **kwds)\u001b[0m\n\u001b[1;32m    566\u001b[0m \u001b[38;5;124;03m'''Create a new, empty Counter object.  And if given, count elements\u001b[39;00m\n\u001b[1;32m    567\u001b[0m \u001b[38;5;124;03mfrom an input iterable.  Or, initialize the count from another mapping\u001b[39;00m\n\u001b[1;32m    568\u001b[0m \u001b[38;5;124;03mof elements to their counts.\u001b[39;00m\n\u001b[0;32m   (...)\u001b[0m\n\u001b[1;32m    574\u001b[0m \n\u001b[1;32m    575\u001b[0m \u001b[38;5;124;03m'''\u001b[39;00m\n\u001b[1;32m    576\u001b[0m \u001b[38;5;28msuper\u001b[39m()\u001b[38;5;241m.\u001b[39m\u001b[38;5;21m__init__\u001b[39m()\n\u001b[0;32m--> 577\u001b[0m \u001b[38;5;28;43mself\u001b[39;49m\u001b[38;5;241;43m.\u001b[39;49m\u001b[43mupdate\u001b[49m\u001b[43m(\u001b[49m\u001b[43miterable\u001b[49m\u001b[43m,\u001b[49m\u001b[43m \u001b[49m\u001b[38;5;241;43m*\u001b[39;49m\u001b[38;5;241;43m*\u001b[39;49m\u001b[43mkwds\u001b[49m\u001b[43m)\u001b[49m\n",
      "File \u001b[0;32m~/anaconda3/lib/python3.10/collections/__init__.py:670\u001b[0m, in \u001b[0;36mCounter.update\u001b[0;34m(self, iterable, **kwds)\u001b[0m\n\u001b[1;32m    668\u001b[0m             \u001b[38;5;28msuper\u001b[39m()\u001b[38;5;241m.\u001b[39mupdate(iterable)\n\u001b[1;32m    669\u001b[0m     \u001b[38;5;28;01melse\u001b[39;00m:\n\u001b[0;32m--> 670\u001b[0m         \u001b[43m_count_elements\u001b[49m\u001b[43m(\u001b[49m\u001b[38;5;28;43mself\u001b[39;49m\u001b[43m,\u001b[49m\u001b[43m \u001b[49m\u001b[43miterable\u001b[49m\u001b[43m)\u001b[49m\n\u001b[1;32m    671\u001b[0m \u001b[38;5;28;01mif\u001b[39;00m kwds:\n\u001b[1;32m    672\u001b[0m     \u001b[38;5;28mself\u001b[39m\u001b[38;5;241m.\u001b[39mupdate(kwds)\n",
      "\u001b[0;31mTypeError\u001b[0m: unhashable type: 'list'"
     ]
    }
   ],
   "source": [
    "from collections import Counter\n",
    "frequency = Counter(l1)\n",
    "print(frequency.most_common(1)[0])"
   ]
  },
  {
   "cell_type": "code",
   "execution_count": 5,
   "id": "cc93ff2c-76b9-42b7-8f61-1177c2770f78",
   "metadata": {},
   "outputs": [
    {
     "ename": "TypeError",
     "evalue": "'dtype' is an invalid keyword argument for max()",
     "output_type": "error",
     "traceback": [
      "\u001b[0;31m---------------------------------------------------------------------------\u001b[0m",
      "\u001b[0;31mTypeError\u001b[0m                                 Traceback (most recent call last)",
      "Cell \u001b[0;32mIn[5], line 1\u001b[0m\n\u001b[0;32m----> 1\u001b[0m \u001b[38;5;28mprint\u001b[39m(\u001b[38;5;28;43mmax\u001b[39;49m\u001b[43m(\u001b[49m\u001b[43ml1\u001b[49m\u001b[43m,\u001b[49m\u001b[43m \u001b[49m\u001b[43mkey\u001b[49m\u001b[43m \u001b[49m\u001b[38;5;241;43m=\u001b[39;49m\u001b[43m \u001b[49m\u001b[43ml1\u001b[49m\u001b[38;5;241;43m.\u001b[39;49m\u001b[43mcount\u001b[49m\u001b[43m,\u001b[49m\u001b[43m \u001b[49m\u001b[43mdtype\u001b[49m\u001b[43m \u001b[49m\u001b[38;5;241;43m=\u001b[39;49m\u001b[43m \u001b[49m\u001b[38;5;28;43mstr\u001b[39;49m\u001b[43m)\u001b[49m)\n",
      "\u001b[0;31mTypeError\u001b[0m: 'dtype' is an invalid keyword argument for max()"
     ]
    }
   ],
   "source": [
    "print(max(l1, key = l1.count))"
   ]
  },
  {
   "cell_type": "code",
   "execution_count": 2,
   "id": "80b633f5-9b21-4940-88ff-152b41ee1fb6",
   "metadata": {},
   "outputs": [
    {
     "name": "stdout",
     "output_type": "stream",
     "text": [
      "{'Two': 2, 'roads': 2, 'diverged': 2, 'in': 3, 'a': 3, 'yellow': 1, 'wood,\\n': 1, 'And': 6, 'sorry': 1, 'I': 8, 'could': 1, 'not': 1, 'travel': 1, 'both\\n': 1, 'be': 2, 'one': 3, 'traveler,': 1, 'long': 1, 'stood\\n': 1, 'looked': 1, 'down': 1, 'as': 5, 'far': 1, 'could\\n': 1, 'To': 1, 'where': 1, 'it': 2, 'bent': 1, 'the': 8, 'undergrowth;\\n': 1, '\\n': 3, 'Then': 1, 'took': 2, 'other,': 1, 'just': 1, 'fair,\\n': 1, 'having': 1, 'perhaps': 1, 'better': 1, 'claim,\\n': 1, 'Because': 1, 'was': 1, 'grassy': 1, 'and': 3, 'wanted': 1, 'wear;\\n': 1, 'Though': 1, 'for': 2, 'that': 3, 'passing': 1, 'there\\n': 1, 'Had': 1, 'worn': 1, 'them': 1, 'really': 1, 'about': 1, 'same,\\n': 1, 'both': 1, 'morning': 1, 'equally': 1, 'lay\\n': 1, 'In': 1, 'leaves': 1, 'no': 1, 'step': 1, 'had': 1, 'trodden': 1, 'black.\\n': 1, 'Oh,': 1, 'kept': 1, 'first': 1, 'another': 1, 'day!\\n': 1, 'Yet': 1, 'knowing': 1, 'how': 1, 'way': 1, 'leads': 1, 'on': 1, 'to': 1, 'way,\\n': 1, 'doubted': 1, 'if': 1, 'should': 1, 'ever': 1, 'come': 1, 'back.\\n': 1, 'shall': 1, 'telling': 1, 'this': 1, 'with': 1, 'sigh\\n': 1, 'Somewhere': 1, 'ages': 2, 'hence:\\n': 1, 'wood,': 1, 'I—\\n': 1, 'less': 1, 'traveled': 1, 'by,\\n': 1, 'has': 1, 'made': 1, 'all': 1, 'difference.': 1}\n",
      "Max occurances of any word is: 8\n",
      "Words with max occurances are: \n",
      "I\n",
      "the\n"
     ]
    }
   ],
   "source": [
    "word_stats={}\n",
    "\n",
    "with open(\"poem.txt\",\"r\") as f:\n",
    "    for line in f:\n",
    "        words=line.split(' ')\n",
    "        for word in words:\n",
    "            if word in word_stats:\n",
    "                word_stats[word]+=1\n",
    "            else:\n",
    "                word_stats[word] = 1\n",
    "\n",
    "print(word_stats)\n",
    "\n",
    "word_occurances = list(word_stats.values())\n",
    "max_count = max(word_occurances)\n",
    "print(\"Max occurances of any word is:\",max_count)\n",
    "\n",
    "print(\"Words with max occurances are: \")\n",
    "for word, count in word_stats.items():\n",
    "    if count==max_count:\n",
    "        print(word)"
   ]
  },
  {
   "cell_type": "code",
   "execution_count": 3,
   "id": "90a83411-6fc0-490b-ba0e-9cbcaca076e4",
   "metadata": {},
   "outputs": [
    {
     "name": "stdout",
     "output_type": "stream",
     "text": [
      "Words with the maximum occurrence (9 times):\n",
      "and\n"
     ]
    }
   ],
   "source": [
    "from collections import Counter\n",
    "\n",
    "# Read the contents of the file\n",
    "file_path = \"poem.txt\"  # Replace with the actual file path\n",
    "with open(file_path, \"r\") as file:\n",
    "    poem_text = file.read()\n",
    "\n",
    "# Tokenize the text into words (removing punctuation and converting to lowercase)\n",
    "words = poem_text.lower().split()\n",
    "\n",
    "# Count the occurrences of each word using Counter\n",
    "word_counts = Counter(words)\n",
    "\n",
    "# Find the maximum occurrence count\n",
    "max_occurrence = max(word_counts.values())\n",
    "\n",
    "# Find the words with the maximum occurrence\n",
    "words_with_max_occurrence = [word for word, count in word_counts.items() if count == max_occurrence]\n",
    "\n",
    "# Print the result\n",
    "print(f\"Words with the maximum occurrence ({max_occurrence} times):\")\n",
    "print(\", \".join(words_with_max_occurrence))"
   ]
  },
  {
   "cell_type": "code",
   "execution_count": null,
   "id": "2b139e5e-3cde-4b36-bc18-2e795f6295d9",
   "metadata": {},
   "outputs": [],
   "source": []
  }
 ],
 "metadata": {
  "kernelspec": {
   "display_name": "Python 3 (ipykernel)",
   "language": "python",
   "name": "python3"
  },
  "language_info": {
   "codemirror_mode": {
    "name": "ipython",
    "version": 3
   },
   "file_extension": ".py",
   "mimetype": "text/x-python",
   "name": "python",
   "nbconvert_exporter": "python",
   "pygments_lexer": "ipython3",
   "version": "3.10.9"
  }
 },
 "nbformat": 4,
 "nbformat_minor": 5
}
